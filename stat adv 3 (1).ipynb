{
 "cells": [
  {
   "cell_type": "markdown",
   "id": "b0584664-d94d-468c-a4b6-c49c478f6831",
   "metadata": {},
   "source": [
    "Q1: What is the difference between a t-test and a z-test? Provide an example scenario where you would\n",
    "use each type of test.\n",
    "\n",
    "A z test is used when the population variance is known and sample size is above 30.\n",
    "\n",
    "A t test is used when the population variance is unknown and sample size is lesssthan 30."
   ]
  },
  {
   "cell_type": "markdown",
   "id": "3dab5377-b940-4164-878d-b7e98a18eb72",
   "metadata": {},
   "source": [
    "Q2: Differentiate between one-tailed and two-tailed tests.\n",
    "\n",
    "Possibility of effect in one side in the probabilty distribution i.e., called one-tailed test.\n",
    "\n",
    "possibilty of effect in two sides i.e., in both positive and negative sides of probability distrbution \n",
    "\n",
    "i.e., called two-tailed test."
   ]
  },
  {
   "cell_type": "markdown",
   "id": "93474f3a-4516-47e6-b35d-663d3effa7f2",
   "metadata": {},
   "source": [
    "Q3: Explain the concept of Type 1 and Type 2 errors in hypothesis testing. Provide an example scenario for\n",
    "\n",
    "each type of error.\n",
    "\n",
    "Type1 - error : Rejecting the true null hypothesis is called type 1 error\n",
    "\n",
    "Type2 - error : Accepting the false null hypothesis is called type 2 error."
   ]
  },
  {
   "cell_type": "markdown",
   "id": "424447b5-b111-4987-acc2-26e2c4e9340e",
   "metadata": {},
   "source": [
    "Q4: Explain Bayes's theorem with an example.\n",
    "\n",
    "Suppose A and B are two events of a dependent random variables then the \n",
    "\n",
    "probability of B given a is given by probability of B which is multiplied by \n",
    "\n",
    "probability of A given B and both these are divided by probability of A\n",
    "\n",
    "i.e., P(B/A) = (P(B).P(A/B))/P(A)  this equation is called Baye's theorem.\n",
    "\n",
    "Ex: A bag contains 5 different coloured balls ,selecting them is dependant."
   ]
  },
  {
   "cell_type": "markdown",
   "id": "b6293a39-f0a6-49b0-a410-dff436b8970e",
   "metadata": {},
   "source": [
    "Q5: What is a confidence interval? How to calculate the confidence interval, explain with an example.\n",
    "\n",
    "A confidence interval is the value we subtracting and adding margin of error with pointestimate(sample mean).\n",
    "\n",
    "margin of error can be calculated by using z-test or t-test with the formula.\n",
    "\n",
    "C.I = pointestimate +- margin of error\n",
    "\n",
    "margin of error = zsuffix(alpha/2)(std/root of std)\n",
    "\n",
    "where, z is the arear under the curve\n",
    "\n",
    "alpha is significance value."
   ]
  },
  {
   "cell_type": "markdown",
   "id": "36cca2f6-b469-4d67-8c9d-ea5586a3da65",
   "metadata": {},
   "source": [
    "Q7. Calculate the 95% confidence interval for a sample of data with a mean of 50 and a standard deviation\n",
    "of 5. Interpret the results.\n",
    "\n",
    "C.I = pointestimate +- margin of error\n",
    "\n",
    "margin of error = zsuffix(alpha/2)(std/root of std)\n",
    "\n",
    "given , mean = 50\n",
    "        \n",
    "        standard deviation = 5\n",
    "        \n",
    "        n will be 25 remaing size except of 95%\n",
    "\n",
    "Higher C.I is, 50+(1.96)(5/sqrt25) = 51.96\n",
    "\n",
    "Lower  C.I is,50-(1.96)(5/sqrt25) = 48.04"
   ]
  },
  {
   "cell_type": "markdown",
   "id": "bc0e46ca-b692-4710-ae0a-bc896bf648bb",
   "metadata": {},
   "source": [
    "Q9. Calculate the z-score for a data point with a value of 75, a population mean of 70, and a population\n",
    "standard deviation of 5. Interpret the results.\n",
    "\n",
    "z-score formula is , xi - mean / std\n",
    "\n",
    "given mean = 70\n",
    "\n",
    "      xi = 75\n",
    "      \n",
    "      std = 5\n",
    "      \n",
    "      z-score = (75-70)/5\n",
    "              \n",
    "              = 5/5\n",
    "              \n",
    "              =1."
   ]
  },
  {
   "cell_type": "markdown",
   "id": "5426249a-3557-4b97-89f8-6d1a6184b52a",
   "metadata": {},
   "source": [
    "Q10. In a study of the effectiveness of a new weight loss drug, a sample of 50 participants lost an average\n",
    "of 6 pounds with a standard deviation of 2.5 pounds. Conduct a hypothesis test to determine if the drug is\n",
    "significantly effective at a 95% confidence level using a t-test.\n",
    "\n",
    "Given, sample size = 50 participants\n",
    "\n",
    "    std = 2.5\n",
    "    \n",
    "    t=(m-mu)/(s /sqrt{n})\n",
    "    \n",
    "t\t=\tStudent's t-test\n",
    "\n",
    "m\t=\tmean\n",
    "\n",
    "mu\t=\ttheoretical value\n",
    "\n",
    "s\t=\tstandard deviation\n",
    "\n",
    "{n}\t=\tvariable set size\n",
    "\n",
    "t = 50 - 6 / (2.5/2.5)\n",
    "\n",
    "t = 44"
   ]
  },
  {
   "cell_type": "markdown",
   "id": "67edd489-47b4-4d04-8d2d-2448302c250a",
   "metadata": {},
   "source": [
    "Q11. In a survey of 500 people, 65% reported being satisfied with their current job. Calculate the 95%\n",
    "confidence interval for the true proportion of people who are satisfied with their job.\n",
    "\n",
    "sample size n = 500\n",
    "\n",
    "c.i = 95% = 0.95\n",
    "\n",
    "mean = 65% = 0.65\n",
    "\n",
    "significance level = 1-C.I\n",
    "\n",
    "                   = 1- 0.95\n",
    "                   \n",
    "                   = 0.05\n",
    "                   \n",
    "C.I = pointestimate +- margin of error\n",
    "\n",
    "margin of error = zsuffix(alpha/2)(sqrt(mean(1-mean)/n))\n",
    "\n",
    "zsuffix(0.05/2) = zsuffix0.025= 1.96(from z table)\n",
    "\n",
    "Lower C.I = 0.65 - 1.96((0.65)(1-0.65)/500)\n",
    "\n",
    "          = 0.65 - 0.0008918\n",
    "          = 0.64910\n",
    "\n",
    "Higher C.I = 0.65 + 0.0008918 = 0.65089\n",
    "\n",
    "\n",
    "Thus, the confidence interval at 95% is (0.64910, 0.65089)."
   ]
  },
  {
   "cell_type": "code",
   "execution_count": null,
   "id": "df8fb118-58bd-4772-9319-cb1c37893f8d",
   "metadata": {},
   "outputs": [],
   "source": []
  }
 ],
 "metadata": {
  "kernelspec": {
   "display_name": "Python 3 (ipykernel)",
   "language": "python",
   "name": "python3"
  },
  "language_info": {
   "codemirror_mode": {
    "name": "ipython",
    "version": 3
   },
   "file_extension": ".py",
   "mimetype": "text/x-python",
   "name": "python",
   "nbconvert_exporter": "python",
   "pygments_lexer": "ipython3",
   "version": "3.10.8"
  }
 },
 "nbformat": 4,
 "nbformat_minor": 5
}
